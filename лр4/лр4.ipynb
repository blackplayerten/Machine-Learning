{
 "cells": [
  {
   "cell_type": "markdown",
   "metadata": {},
   "source": [
    "### Отчет по лабораторной работе №4 \"Подготовка обучающей и тестовой выборки, кросс-валидация и подбор гиперпараметров на примере метода ближайших соседей\""
   ]
  },
  {
   "cell_type": "code",
   "execution_count": 336,
   "metadata": {},
   "outputs": [],
   "source": [
    "import numpy as np\n",
    "import pandas as pd\n",
    "from sklearn.preprocessing import LabelEncoder\n",
    "from sklearn.model_selection import train_test_split\n",
    "from sklearn.datasets import load_iris, load_boston\n",
    "from sklearn.neighbors import KNeighborsRegressor, KNeighborsClassifier\n",
    "from sklearn.model_selection import cross_val_score, cross_validate\n",
    "from sklearn.model_selection import KFold, RepeatedKFold, LeaveOneOut, LeavePOut, ShuffleSplit, StratifiedKFold\n",
    "from sklearn.metrics import accuracy_score, balanced_accuracy_score\n",
    "from sklearn.metrics import precision_score, recall_score, f1_score, classification_report\n",
    "from sklearn.metrics import confusion_matrix\n",
    "from sklearn.metrics import mean_absolute_error, mean_squared_error, mean_squared_log_error, median_absolute_error, r2_score \n",
    "from sklearn.metrics import roc_curve, roc_auc_score\n",
    "from sklearn.model_selection import GridSearchCV, RandomizedSearchCV\n",
    "from sklearn.model_selection import learning_curve, validation_curve\n",
    "import seaborn as sns\n",
    "import matplotlib.pyplot as plt\n",
    "import warnings\n",
    "%matplotlib inline \n",
    "sns.set(style=\"ticks\")"
   ]
  },
  {
   "cell_type": "markdown",
   "metadata": {},
   "source": [
    "### подготовление датасета"
   ]
  },
  {
   "cell_type": "code",
   "execution_count": 337,
   "metadata": {},
   "outputs": [],
   "source": [
    "# cторонняя компания по страхованию путешествий, базирующаяся в Сингапуре\n",
    "data = pd.read_csv('лр4.csv', sep=',')"
   ]
  },
  {
   "cell_type": "code",
   "execution_count": 338,
   "metadata": {},
   "outputs": [
    {
     "data": {
      "text/html": [
       "<div>\n",
       "<style scoped>\n",
       "    .dataframe tbody tr th:only-of-type {\n",
       "        vertical-align: middle;\n",
       "    }\n",
       "\n",
       "    .dataframe tbody tr th {\n",
       "        vertical-align: top;\n",
       "    }\n",
       "\n",
       "    .dataframe thead th {\n",
       "        text-align: right;\n",
       "    }\n",
       "</style>\n",
       "<table border=\"1\" class=\"dataframe\">\n",
       "  <thead>\n",
       "    <tr style=\"text-align: right;\">\n",
       "      <th></th>\n",
       "      <th>Agency</th>\n",
       "      <th>Agency Type</th>\n",
       "      <th>Distribution Channel</th>\n",
       "      <th>Product Name</th>\n",
       "      <th>Claim</th>\n",
       "      <th>Duration</th>\n",
       "      <th>Destination</th>\n",
       "      <th>Net Sales</th>\n",
       "      <th>Commision (in value)</th>\n",
       "      <th>Gender</th>\n",
       "      <th>Age</th>\n",
       "    </tr>\n",
       "  </thead>\n",
       "  <tbody>\n",
       "    <tr>\n",
       "      <th>0</th>\n",
       "      <td>CBH</td>\n",
       "      <td>Travel Agency</td>\n",
       "      <td>Offline</td>\n",
       "      <td>Comprehensive Plan</td>\n",
       "      <td>No</td>\n",
       "      <td>186</td>\n",
       "      <td>MALAYSIA</td>\n",
       "      <td>-29.0</td>\n",
       "      <td>9.57</td>\n",
       "      <td>F</td>\n",
       "      <td>81</td>\n",
       "    </tr>\n",
       "    <tr>\n",
       "      <th>1</th>\n",
       "      <td>CBH</td>\n",
       "      <td>Travel Agency</td>\n",
       "      <td>Offline</td>\n",
       "      <td>Comprehensive Plan</td>\n",
       "      <td>No</td>\n",
       "      <td>186</td>\n",
       "      <td>MALAYSIA</td>\n",
       "      <td>-29.0</td>\n",
       "      <td>9.57</td>\n",
       "      <td>F</td>\n",
       "      <td>71</td>\n",
       "    </tr>\n",
       "    <tr>\n",
       "      <th>2</th>\n",
       "      <td>CWT</td>\n",
       "      <td>Travel Agency</td>\n",
       "      <td>Online</td>\n",
       "      <td>Rental Vehicle Excess Insurance</td>\n",
       "      <td>No</td>\n",
       "      <td>65</td>\n",
       "      <td>AUSTRALIA</td>\n",
       "      <td>-49.5</td>\n",
       "      <td>29.70</td>\n",
       "      <td>NaN</td>\n",
       "      <td>32</td>\n",
       "    </tr>\n",
       "    <tr>\n",
       "      <th>3</th>\n",
       "      <td>CWT</td>\n",
       "      <td>Travel Agency</td>\n",
       "      <td>Online</td>\n",
       "      <td>Rental Vehicle Excess Insurance</td>\n",
       "      <td>No</td>\n",
       "      <td>60</td>\n",
       "      <td>AUSTRALIA</td>\n",
       "      <td>-39.6</td>\n",
       "      <td>23.76</td>\n",
       "      <td>NaN</td>\n",
       "      <td>32</td>\n",
       "    </tr>\n",
       "    <tr>\n",
       "      <th>4</th>\n",
       "      <td>CWT</td>\n",
       "      <td>Travel Agency</td>\n",
       "      <td>Online</td>\n",
       "      <td>Rental Vehicle Excess Insurance</td>\n",
       "      <td>No</td>\n",
       "      <td>79</td>\n",
       "      <td>ITALY</td>\n",
       "      <td>-19.8</td>\n",
       "      <td>11.88</td>\n",
       "      <td>NaN</td>\n",
       "      <td>41</td>\n",
       "    </tr>\n",
       "  </tbody>\n",
       "</table>\n",
       "</div>"
      ],
      "text/plain": [
       "  Agency    Agency Type Distribution Channel                     Product Name  \\\n",
       "0    CBH  Travel Agency              Offline               Comprehensive Plan   \n",
       "1    CBH  Travel Agency              Offline               Comprehensive Plan   \n",
       "2    CWT  Travel Agency               Online  Rental Vehicle Excess Insurance   \n",
       "3    CWT  Travel Agency               Online  Rental Vehicle Excess Insurance   \n",
       "4    CWT  Travel Agency               Online  Rental Vehicle Excess Insurance   \n",
       "\n",
       "  Claim  Duration Destination  Net Sales  Commision (in value) Gender  Age  \n",
       "0    No       186    MALAYSIA      -29.0                  9.57      F   81  \n",
       "1    No       186    MALAYSIA      -29.0                  9.57      F   71  \n",
       "2    No        65   AUSTRALIA      -49.5                 29.70    NaN   32  \n",
       "3    No        60   AUSTRALIA      -39.6                 23.76    NaN   32  \n",
       "4    No        79       ITALY      -19.8                 11.88    NaN   41  "
      ]
     },
     "execution_count": 338,
     "metadata": {},
     "output_type": "execute_result"
    }
   ],
   "source": [
    "data.head()"
   ]
  },
  {
   "cell_type": "code",
   "execution_count": 339,
   "metadata": {},
   "outputs": [
    {
     "data": {
      "text/plain": [
       "(63326, 11)"
      ]
     },
     "execution_count": 339,
     "metadata": {},
     "output_type": "execute_result"
    }
   ],
   "source": [
    "data.shape"
   ]
  },
  {
   "cell_type": "code",
   "execution_count": 340,
   "metadata": {},
   "outputs": [
    {
     "data": {
      "text/plain": [
       "Agency                   object\n",
       "Agency Type              object\n",
       "Distribution Channel     object\n",
       "Product Name             object\n",
       "Claim                    object\n",
       "Duration                  int64\n",
       "Destination              object\n",
       "Net Sales               float64\n",
       "Commision (in value)    float64\n",
       "Gender                   object\n",
       "Age                       int64\n",
       "dtype: object"
      ]
     },
     "execution_count": 340,
     "metadata": {},
     "output_type": "execute_result"
    }
   ],
   "source": [
    "data.dtypes"
   ]
  },
  {
   "cell_type": "code",
   "execution_count": 341,
   "metadata": {},
   "outputs": [
    {
     "data": {
      "text/plain": [
       "Agency                  0\n",
       "Agency Type             0\n",
       "Distribution Channel    0\n",
       "Product Name            0\n",
       "Claim                   0\n",
       "Duration                0\n",
       "Destination             0\n",
       "Net Sales               0\n",
       "Commision (in value)    0\n",
       "Age                     0\n",
       "dtype: int64"
      ]
     },
     "execution_count": 341,
     "metadata": {},
     "output_type": "execute_result"
    }
   ],
   "source": [
    "# удаление пропусков\n",
    "data = data.drop(columns='Gender')\n",
    "data.isnull().sum()"
   ]
  },
  {
   "cell_type": "code",
   "execution_count": 342,
   "metadata": {},
   "outputs": [],
   "source": [
    "# преобразование типов\n",
    "cat_coll = []\n",
    "for col in data.columns:\n",
    "    if data[col].dtype == 'object':\n",
    "        cat_coll.append(col)\n",
    "en_cat = {}\n",
    "for col in cat_coll:\n",
    "    le = LabelEncoder()\n",
    "    data[[col]] = le.fit_transform(data[col])  \n",
    "    en_cat[col] = le"
   ]
  },
  {
   "cell_type": "code",
   "execution_count": 343,
   "metadata": {},
   "outputs": [
    {
     "data": {
      "text/plain": [
       "Agency                    int64\n",
       "Agency Type               int64\n",
       "Distribution Channel      int64\n",
       "Product Name              int64\n",
       "Claim                     int64\n",
       "Duration                  int64\n",
       "Destination               int64\n",
       "Net Sales               float64\n",
       "Commision (in value)    float64\n",
       "Age                       int64\n",
       "dtype: object"
      ]
     },
     "execution_count": 343,
     "metadata": {},
     "output_type": "execute_result"
    }
   ],
   "source": [
    "data.dtypes"
   ]
  },
  {
   "cell_type": "code",
   "execution_count": 344,
   "metadata": {},
   "outputs": [],
   "source": [
    "# разделение выборки на обучающую и тестовую\n",
    "# разделение исходного датасета на 2: с содержанием независимых и зависимых параметров соответственно\n",
    "x, y = data[data.columns[range(9)]], data[data.columns[[9]]]"
   ]
  },
  {
   "cell_type": "code",
   "execution_count": 345,
   "metadata": {},
   "outputs": [
    {
     "data": {
      "text/plain": [
       "Agency                    int64\n",
       "Agency Type               int64\n",
       "Distribution Channel      int64\n",
       "Product Name              int64\n",
       "Claim                     int64\n",
       "Duration                  int64\n",
       "Destination               int64\n",
       "Net Sales               float64\n",
       "Commision (in value)    float64\n",
       "dtype: object"
      ]
     },
     "execution_count": 345,
     "metadata": {},
     "output_type": "execute_result"
    }
   ],
   "source": [
    "x.dtypes"
   ]
  },
  {
   "cell_type": "code",
   "execution_count": 346,
   "metadata": {},
   "outputs": [
    {
     "data": {
      "text/plain": [
       "Age    int64\n",
       "dtype: object"
      ]
     },
     "execution_count": 346,
     "metadata": {},
     "output_type": "execute_result"
    }
   ],
   "source": [
    "y.dtypes"
   ]
  },
  {
   "cell_type": "code",
   "execution_count": 348,
   "metadata": {},
   "outputs": [
    {
     "data": {
      "text/plain": [
       "(50660, 12666, 50660, 12666)"
      ]
     },
     "execution_count": 348,
     "metadata": {},
     "output_type": "execute_result"
    }
   ],
   "source": [
    "test_size = 0.2\n",
    "state = 42\n",
    "xtrain, xtest, ytrain, ytest = train_test_split(x, y, test_size=test_size, random_state=state)\n",
    "len(xtrain), len(xtest), len(ytrain), len(ytest)"
   ]
  },
  {
   "cell_type": "markdown",
   "metadata": {},
   "source": [
    "### обучение модели на произвольном гиперпараметре к"
   ]
  },
  {
   "cell_type": "code",
   "execution_count": 349,
   "metadata": {},
   "outputs": [
    {
     "name": "stdout",
     "output_type": "stream",
     "text": [
      "количество классов: 89\n"
     ]
    }
   ],
   "source": [
    "# значения возраста от 0 до 118, поэтому используется классифаер\n",
    "print('количество классов:', len(data['Age'].unique()))"
   ]
  },
  {
   "cell_type": "code",
   "execution_count": 350,
   "metadata": {},
   "outputs": [
    {
     "data": {
      "text/plain": [
       "KNeighborsClassifier(algorithm='auto', leaf_size=30, metric='minkowski',\n",
       "                     metric_params=None, n_jobs=None, n_neighbors=3, p=2,\n",
       "                     weights='uniform')"
      ]
     },
     "execution_count": 350,
     "metadata": {},
     "output_type": "execute_result"
    }
   ],
   "source": [
    "# обучение модели для произвольно заданного гиперпараметра к\n",
    "k = 3\n",
    "KNeighborsClassifierObj = KNeighborsClassifier(n_neighbors=k)\n",
    "KNeighborsClassifierObj"
   ]
  },
  {
   "cell_type": "code",
   "execution_count": 351,
   "metadata": {},
   "outputs": [
    {
     "data": {
      "text/plain": [
       "KNeighborsClassifier(algorithm='auto', leaf_size=30, metric='minkowski',\n",
       "                     metric_params=None, n_jobs=None, n_neighbors=3, p=2,\n",
       "                     weights='uniform')"
      ]
     },
     "execution_count": 351,
     "metadata": {},
     "output_type": "execute_result"
    }
   ],
   "source": [
    "# обучение модели для произвольно заданного гиперпараметра к\n",
    "KNeighborsClassifierObj.fit(xtrain, ytrain.values.ravel())"
   ]
  },
  {
   "cell_type": "code",
   "execution_count": 352,
   "metadata": {},
   "outputs": [
    {
     "data": {
      "text/plain": [
       "array([ 29,  22,  36, ...,  36,  36, 118])"
      ]
     },
     "execution_count": 352,
     "metadata": {},
     "output_type": "execute_result"
    }
   ],
   "source": [
    "y_pred_train = KNeighborsClassifierObj.predict(xtrain)\n",
    "y_pred_train"
   ]
  },
  {
   "cell_type": "code",
   "execution_count": 353,
   "metadata": {},
   "outputs": [
    {
     "data": {
      "text/plain": [
       "array([36, 31, 35, ..., 36, 26, 22])"
      ]
     },
     "execution_count": 353,
     "metadata": {},
     "output_type": "execute_result"
    }
   ],
   "source": [
    "y_pred_test = KNeighborsClassifierObj.predict(xtest)\n",
    "y_pred_test"
   ]
  },
  {
   "cell_type": "code",
   "execution_count": 354,
   "metadata": {},
   "outputs": [
    {
     "data": {
      "text/plain": [
       "array([36, 68, 36, ..., 36, 61, 36])"
      ]
     },
     "execution_count": 354,
     "metadata": {},
     "output_type": "execute_result"
    }
   ],
   "source": [
    "ytest['Age'].values"
   ]
  },
  {
   "cell_type": "code",
   "execution_count": 355,
   "metadata": {},
   "outputs": [
    {
     "name": "stdout",
     "output_type": "stream",
     "text": [
      "train accuracy(%) 53.45637583892617\n",
      "train accuracy(%) 36.009789988946785\n"
     ]
    }
   ],
   "source": [
    "# оценивание качество модели классификации\n",
    "print('train accuracy(%) {}'.format(accuracy_score(ytrain, y_pred_train) * 100))\n",
    "print('train accuracy(%) {}'.format(accuracy_score(ytest, y_pred_test) * 100))"
   ]
  },
  {
   "cell_type": "code",
   "execution_count": 356,
   "metadata": {},
   "outputs": [
    {
     "name": "stdout",
     "output_type": "stream",
     "text": [
      "матрица ошибок: строки – истинное, столбцы – предсказанное\n",
      "train:\n",
      " [[  0   0   0 ...   0   0   0]\n",
      " [  0   3   0 ...   0   0   0]\n",
      " [  0   0   1 ...   0   0   0]\n",
      " ...\n",
      " [  0   0   0 ...   0   0   0]\n",
      " [  0   0   0 ...   0   0   0]\n",
      " [  0   0   0 ...   0   0 662]]\n",
      "test:\n",
      " [[  0   0   0 ...   0   0   0]\n",
      " [  0   0   0 ...   0   0   0]\n",
      " [  0   0   0 ...   0   0   0]\n",
      " ...\n",
      " [  0   0   0 ...   0   0   0]\n",
      " [  0   0   0 ...   0   0   0]\n",
      " [  0   1   0 ...   0   0 145]]\n"
     ]
    }
   ],
   "source": [
    "print('матрица ошибок: строки – истинное, столбцы – предсказанное')\n",
    "print('train:\\n', confusion_matrix(ytrain, y_pred_train))\n",
    "print('test:\\n', confusion_matrix(ytest, y_pred_test))"
   ]
  },
  {
   "cell_type": "code",
   "execution_count": 357,
   "metadata": {},
   "outputs": [
    {
     "name": "stdout",
     "output_type": "stream",
     "text": [
      "0.5369837479887902\n",
      "0.33407827460523043\n"
     ]
    }
   ],
   "source": [
    "warnings.filterwarnings(\"ignore\")\n",
    "print(precision_score(ytrain, y_pred_train, average='weighted'))\n",
    "print(precision_score(ytest, y_pred_test, average='weighted'))"
   ]
  },
  {
   "cell_type": "code",
   "execution_count": 358,
   "metadata": {},
   "outputs": [
    {
     "name": "stdout",
     "output_type": "stream",
     "text": [
      "0.5001660212851098\n",
      "0.3415855080250703\n"
     ]
    }
   ],
   "source": [
    "warnings.filterwarnings(\"ignore\")\n",
    "print(f1_score(ytrain, y_pred_train, average='weighted'))\n",
    "print(f1_score(ytest, y_pred, average='weighted'))"
   ]
  },
  {
   "cell_type": "markdown",
   "metadata": {},
   "source": [
    "### оценивание качества с использованием кросс-валидации"
   ]
  },
  {
   "cell_type": "code",
   "execution_count": 359,
   "metadata": {},
   "outputs": [
    {
     "data": {
      "text/plain": [
       "array([0.36716828, 0.35783292, 0.34903691])"
      ]
     },
     "execution_count": 359,
     "metadata": {},
     "output_type": "execute_result"
    }
   ],
   "source": [
    "# автоматически выбирается стратегия\n",
    "warnings.filterwarnings(\"ignore\")\n",
    "scores = cross_val_score(KNeighborsClassifierObj, x, y.values.ravel(), cv=3)  # 3 фолда\n",
    "scores  # дефолтная точность"
   ]
  },
  {
   "cell_type": "code",
   "execution_count": 360,
   "metadata": {},
   "outputs": [
    {
     "data": {
      "text/plain": [
       "0.35801270300862303"
      ]
     },
     "execution_count": 360,
     "metadata": {},
     "output_type": "execute_result"
    }
   ],
   "source": [
    "np.mean(scores)"
   ]
  },
  {
   "cell_type": "code",
   "execution_count": 361,
   "metadata": {},
   "outputs": [
    {
     "data": {
      "text/plain": [
       "{'fit_time': array([0.04443002, 0.03210306, 0.04179573]),\n",
       " 'score_time': array([2.10332513, 2.17887306, 2.0072    ]),\n",
       " 'test_precision': array([0.31211565, 0.3422917 , 0.33507145]),\n",
       " 'train_precision': array([0.53744392, 0.53315717, 0.54169843]),\n",
       " 'test_recall': array([0.36716828, 0.35783292, 0.34903691]),\n",
       " 'train_recall': array([0.53991089, 0.53506278, 0.54381272]),\n",
       " 'test_f1': array([0.33180252, 0.34690815, 0.33772616]),\n",
       " 'train_f1': array([0.50527049, 0.49931282, 0.50993471])}"
      ]
     },
     "execution_count": 361,
     "metadata": {},
     "output_type": "execute_result"
    }
   ],
   "source": [
    "warnings.filterwarnings(\"ignore\")\n",
    "scoring = {'precision': 'precision_weighted', \n",
    "           'recall': 'recall_weighted',\n",
    "           'f1': 'f1_weighted'}\n",
    "scores = cross_validate(KNeighborsClassifierObj, x, y.values.ravel(), scoring=scoring, cv=3, return_train_score=True)\n",
    "scores"
   ]
  },
  {
   "cell_type": "code",
   "execution_count": 362,
   "metadata": {},
   "outputs": [
    {
     "data": {
      "text/plain": [
       "array([0.42331986, 0.43292067, 0.40879232, 0.39527539, 0.36925215,\n",
       "       0.34903992, 0.34996841, 0.13885028])"
      ]
     },
     "execution_count": 362,
     "metadata": {},
     "output_type": "execute_result"
    }
   ],
   "source": [
    "# стратегии кросс-валидации\n",
    "# k-fold\n",
    "scores = cross_val_score(KNeighborsClassifierObj, x, y.values.ravel(), cv=KFold(n_splits=8))\n",
    "scores"
   ]
  },
  {
   "cell_type": "code",
   "execution_count": 363,
   "metadata": {},
   "outputs": [
    {
     "data": {
      "text/plain": [
       "0.3584273752321039"
      ]
     },
     "execution_count": 363,
     "metadata": {},
     "output_type": "execute_result"
    }
   ],
   "source": [
    "np.mean(scores)"
   ]
  },
  {
   "cell_type": "code",
   "execution_count": 364,
   "metadata": {},
   "outputs": [
    {
     "data": {
      "text/plain": [
       "{'fit_time': array([0.06199241, 0.04982924, 0.04527402, 0.05136704, 0.06994486,\n",
       "        0.0535481 , 0.04695106, 0.05018783]),\n",
       " 'score_time': array([0.78344965, 0.84904599, 0.78026295, 0.77187896, 0.88731003,\n",
       "        0.84380794, 0.7876761 , 0.85170388]),\n",
       " 'test_precision': array([0.4021957 , 0.42366685, 0.38153719, 0.40339355, 0.38272103,\n",
       "        0.34907666, 0.34156568, 0.11046427]),\n",
       " 'train_precision': array([0.52952924, 0.52388708, 0.52496116, 0.52909709, 0.52733944,\n",
       "        0.53372504, 0.53298139, 0.56723542]),\n",
       " 'test_recall': array([0.42331986, 0.43292067, 0.40879232, 0.39527539, 0.36925215,\n",
       "        0.34903992, 0.34996841, 0.13885028]),\n",
       " 'train_recall': array([0.52717921, 0.52051976, 0.52914636, 0.53046382, 0.53271973,\n",
       "        0.53273777, 0.53653607, 0.56672863]),\n",
       " 'test_f1': array([0.40850374, 0.42615716, 0.38998112, 0.39508761, 0.37264892,\n",
       "        0.34484141, 0.34172742, 0.09835689]),\n",
       " 'train_f1': array([0.49274776, 0.48825839, 0.4945263 , 0.49514389, 0.49691419,\n",
       "        0.49907789, 0.50304382, 0.53376689])}"
      ]
     },
     "execution_count": 364,
     "metadata": {},
     "output_type": "execute_result"
    }
   ],
   "source": [
    "import warnings\n",
    "warnings.filterwarnings(\"ignore\")\n",
    "scoring = {'precision': 'precision_weighted', \n",
    "           'recall': 'recall_weighted',\n",
    "           'f1': 'f1_weighted'}\n",
    "scores = cross_validate(KNeighborsClassifierObj, x, y.values.ravel(), scoring=scoring, cv=KFold(n_splits=8), return_train_score=True)\n",
    "scores"
   ]
  },
  {
   "cell_type": "code",
   "execution_count": 365,
   "metadata": {},
   "outputs": [
    {
     "data": {
      "text/plain": [
       "array([0.36696668, 0.36641402, 0.37083531, 0.35843992, 0.37012474,\n",
       "       0.36538765, 0.36759829, 0.36507185])"
      ]
     },
     "execution_count": 365,
     "metadata": {},
     "output_type": "execute_result"
    }
   ],
   "source": [
    "# ShuffleSplit\n",
    "scores = cross_val_score(KNeighborsClassifierObj, x, y.values.ravel(), cv=ShuffleSplit(n_splits=8, test_size=0.2))\n",
    "scores"
   ]
  },
  {
   "cell_type": "code",
   "execution_count": 366,
   "metadata": {},
   "outputs": [
    {
     "data": {
      "text/plain": [
       "0.36635480814779725"
      ]
     },
     "execution_count": 366,
     "metadata": {},
     "output_type": "execute_result"
    }
   ],
   "source": [
    "np.mean(scores)"
   ]
  },
  {
   "cell_type": "code",
   "execution_count": 367,
   "metadata": {},
   "outputs": [
    {
     "data": {
      "text/plain": [
       "{'fit_time': array([0.06298709, 0.0541029 , 0.05324697, 0.05118823, 0.04534888,\n",
       "        0.04684019, 0.04511309, 0.04306793]),\n",
       " 'score_time': array([1.47089791, 1.30955911, 1.23071313, 1.42082191, 1.34536815,\n",
       "        1.29949474, 1.26875377, 1.23436594]),\n",
       " 'test_precision': array([0.33898849, 0.33870243, 0.3558928 , 0.34316941, 0.33798552,\n",
       "        0.34112644, 0.34278456, 0.34014289]),\n",
       " 'train_precision': array([0.53597169, 0.53467763, 0.53991082, 0.53092839, 0.53209386,\n",
       "        0.53129997, 0.53427949, 0.53462289]),\n",
       " 'test_recall': array([0.36736144, 0.36617717, 0.37691457, 0.36625612, 0.36601926,\n",
       "        0.36554556, 0.36980894, 0.36957208]),\n",
       " 'train_recall': array([0.53385314, 0.53683379, 0.53624161, 0.53288591, 0.53452428,\n",
       "        0.53553099, 0.53426767, 0.5358863 ]),\n",
       " 'test_f1': array([0.34871206, 0.34699649, 0.35954662, 0.34954222, 0.34718676,\n",
       "        0.34634674, 0.35090211, 0.35001448]),\n",
       " 'train_f1': array([0.49956762, 0.5021287 , 0.50160143, 0.49783251, 0.49939902,\n",
       "        0.49961399, 0.4993428 , 0.50128196])}"
      ]
     },
     "execution_count": 367,
     "metadata": {},
     "output_type": "execute_result"
    }
   ],
   "source": [
    "scoring = {'precision': 'precision_weighted', \n",
    "           'recall': 'recall_weighted',\n",
    "           'f1': 'f1_weighted'}\n",
    "scores = cross_validate(KNeighborsClassifierObj, x, y.values.ravel(), scoring=scoring, cv=ShuffleSplit(n_splits=8, test_size=0.2), return_train_score=True)\n",
    "scores"
   ]
  },
  {
   "cell_type": "code",
   "execution_count": 368,
   "metadata": {},
   "outputs": [
    {
     "data": {
      "text/plain": [
       "array([0.36591028, 0.36373111, 0.37213379, 0.36785257, 0.36699986,\n",
       "       0.36678037, 0.36382586, 0.36330475, 0.36606974])"
      ]
     },
     "execution_count": 368,
     "metadata": {},
     "output_type": "execute_result"
    }
   ],
   "source": [
    "# RepeatedKFold\n",
    "scores = cross_val_score(KNeighborsClassifierObj, x, y.values.ravel(), cv=RepeatedKFold(n_splits=3, n_repeats=3), n_jobs=-1)\n",
    "scores"
   ]
  },
  {
   "cell_type": "code",
   "execution_count": 369,
   "metadata": {},
   "outputs": [
    {
     "data": {
      "text/plain": [
       "0.36628981310706"
      ]
     },
     "execution_count": 369,
     "metadata": {},
     "output_type": "execute_result"
    }
   ],
   "source": [
    "np.mean(scores)"
   ]
  },
  {
   "cell_type": "code",
   "execution_count": 370,
   "metadata": {},
   "outputs": [
    {
     "data": {
      "text/plain": [
       "{'fit_time': array([0.10314083, 0.11190295, 0.10741496, 0.07907581, 0.06042886,\n",
       "        0.07871509, 0.08184385, 0.06535697, 0.06220388]),\n",
       " 'score_time': array([3.79636908, 4.09066701, 4.01828909, 4.12634897, 4.16349101,\n",
       "        4.7188592 , 4.81816101, 4.95011806, 3.35850906]),\n",
       " 'test_precision': array([0.33423078, 0.33867559, 0.34067855, 0.34109225, 0.33969601,\n",
       "        0.33419296, 0.33829907, 0.33442165, 0.3348406 ]),\n",
       " 'train_precision': array([0.53540671, 0.53354868, 0.54068358, 0.5392429 , 0.53652721,\n",
       "        0.54200505, 0.53068382, 0.53341513, 0.53575838]),\n",
       " 'test_recall': array([0.35766735, 0.36875266, 0.36635399, 0.36628926, 0.36785257,\n",
       "        0.3590108 , 0.36752096, 0.36718935, 0.36114269]),\n",
       " 'train_recall': array([0.54210389, 0.54101428, 0.54085935, 0.53902456, 0.54165384,\n",
       "        0.54230423, 0.53966412, 0.54132222, 0.53979345]),\n",
       " 'test_f1': array([0.34075052, 0.3482693 , 0.34663884, 0.34844736, 0.34776344,\n",
       "        0.34059248, 0.34767408, 0.34515737, 0.34333964]),\n",
       " 'train_f1': array([0.50711763, 0.504329  , 0.50413985, 0.50397641, 0.50396608,\n",
       "        0.50682933, 0.50320821, 0.50496213, 0.50413953])}"
      ]
     },
     "execution_count": 370,
     "metadata": {},
     "output_type": "execute_result"
    }
   ],
   "source": [
    "scoring = {'precision': 'precision_weighted', \n",
    "           'recall': 'recall_weighted',\n",
    "           'f1': 'f1_weighted'}\n",
    "scores = cross_validate(KNeighborsClassifierObj, x, y.values.ravel(), scoring=scoring, cv=RepeatedKFold(n_splits=3, n_repeats=3),\n",
    "                        return_train_score=True, n_jobs=-1)\n",
    "scores"
   ]
  },
  {
   "cell_type": "markdown",
   "metadata": {},
   "source": [
    "### подбор гиперпараметра к с GridSearchCV и кросс-валидацией"
   ]
  },
  {
   "cell_type": "code",
   "execution_count": 371,
   "metadata": {},
   "outputs": [
    {
     "data": {
      "text/plain": [
       "GridSearchCV(cv=KFold(n_splits=3, random_state=None, shuffle=False),\n",
       "             error_score='raise-deprecating',\n",
       "             estimator=KNeighborsClassifier(algorithm='auto', leaf_size=30,\n",
       "                                            metric='minkowski',\n",
       "                                            metric_params=None, n_jobs=None,\n",
       "                                            n_neighbors=5, p=2,\n",
       "                                            weights='uniform'),\n",
       "             iid='warn', n_jobs=-1,\n",
       "             param_grid=[{'n_neighbors': array([ 1,  6, 11, 16, 21, 26, 31, 36, 41, 46, 51, 56, 61, 66, 71, 76, 81,\n",
       "       86, 91, 96])}],\n",
       "             pre_dispatch='2*n_jobs', refit=True, return_train_score=True,\n",
       "             scoring='accuracy', verbose=0)"
      ]
     },
     "execution_count": 371,
     "metadata": {},
     "output_type": "execute_result"
    }
   ],
   "source": [
    "n_neigh_values = range(1, 100, 5)\n",
    "param = [{'n_neighbors': np.array(n_neigh_values)}]\n",
    "class_grid = GridSearchCV(KNeighborsClassifier(), param, cv=KFold(n_splits=3), scoring='accuracy',\n",
    "                          return_train_score=True,\n",
    "                          n_jobs=-1,\n",
    "                         )\n",
    "class_grid.fit(x, y.values.ravel())\n",
    "# считает ~4 мин"
   ]
  },
  {
   "cell_type": "code",
   "execution_count": 372,
   "metadata": {},
   "outputs": [
    {
     "data": {
      "text/plain": [
       "KNeighborsClassifier(algorithm='auto', leaf_size=30, metric='minkowski',\n",
       "                     metric_params=None, n_jobs=None, n_neighbors=31, p=2,\n",
       "                     weights='uniform')"
      ]
     },
     "execution_count": 372,
     "metadata": {},
     "output_type": "execute_result"
    }
   ],
   "source": [
    "class_grid.best_estimator_"
   ]
  },
  {
   "cell_type": "code",
   "execution_count": 373,
   "metadata": {},
   "outputs": [
    {
     "data": {
      "text/plain": [
       "0.4316236616871427"
      ]
     },
     "execution_count": 373,
     "metadata": {},
     "output_type": "execute_result"
    }
   ],
   "source": [
    "class_grid.best_score_"
   ]
  },
  {
   "cell_type": "code",
   "execution_count": 374,
   "metadata": {},
   "outputs": [
    {
     "data": {
      "text/plain": [
       "{'n_neighbors': 31}"
      ]
     },
     "execution_count": 374,
     "metadata": {},
     "output_type": "execute_result"
    }
   ],
   "source": [
    "class_grid.best_params_"
   ]
  },
  {
   "cell_type": "code",
   "execution_count": 375,
   "metadata": {},
   "outputs": [
    {
     "data": {
      "text/plain": [
       "[<matplotlib.lines.Line2D at 0x11c01e1d0>]"
      ]
     },
     "execution_count": 375,
     "metadata": {},
     "output_type": "execute_result"
    },
    {
     "data": {
      "image/png": "[encoded data removed]",
      "text/plain": [
       "<Figure size 432x288 with 1 Axes>"
      ]
     },
     "metadata": {},
     "output_type": "display_data"
    }
   ],
   "source": [
    "plt.plot(n_neigh_values, class_grid.cv_results_['mean_train_score'])"
   ]
  },
  {
   "cell_type": "code",
   "execution_count": 376,
   "metadata": {},
   "outputs": [
    {
     "data": {
      "text/plain": [
       "[<matplotlib.lines.Line2D at 0x11cd410b8>]"
      ]
     },
     "execution_count": 376,
     "metadata": {},
     "output_type": "execute_result"
    },
    {
     "data": {
      "image/png": "[encoded data removed]",
      "text/plain": [
       "<Figure size 432x288 with 1 Axes>"
      ]
     },
     "metadata": {},
     "output_type": "display_data"
    }
   ],
   "source": [
    "plt.plot(n_neigh_values, class_grid.cv_results_['mean_test_score'])"
   ]
  },
  {
   "cell_type": "markdown",
   "metadata": {},
   "source": [
    "##### возрастание значения accuracy, оптимальный к = 31\n",
    "#### повторение для выборок х, y"
   ]
  },
  {
   "cell_type": "code",
   "execution_count": 377,
   "metadata": {},
   "outputs": [
    {
     "name": "stdout",
     "output_type": "stream",
     "text": [
      "train accuracy (%): 53.45637583892617\n",
      "test accuracy (%): 36.009789988946785\n",
      "new accuracy train (%)): 45.64547966837742\n",
      "new accuracy test (%): 42.79172588030949\n"
     ]
    }
   ],
   "source": [
    "class_grid.best_estimator_.fit(xtrain, ytrain.values.ravel())\n",
    "\n",
    "newypred_train = class_grid.best_estimator_.predict(xtrain)\n",
    "newypred_test = class_grid.best_estimator_.predict(xtest)\n",
    "\n",
    "print('train accuracy (%): {}'.format(accuracy_score(ytrain, y_pred_train) * 100))\n",
    "print('test accuracy (%): {}'.format(accuracy_score(ytest, y_pred_test) * 100))\n",
    "\n",
    "print('new accuracy train (%)): {}'.format(accuracy_score(ytrain, newypred_train) * 100))\n",
    "print('new accuracy test (%): {}'.format(accuracy_score(ytest, newypred_test) * 100))"
   ]
  },
  {
   "cell_type": "markdown",
   "metadata": {},
   "source": [
    "### кривые обучения и валидации"
   ]
  },
  {
   "cell_type": "code",
   "execution_count": 379,
   "metadata": {},
   "outputs": [],
   "source": [
    "def plotlearn_curve(estimator, title, x, y, ylim=None, cv=None,\n",
    "                        n_jobs=-1, train_sizes=np.linspace(.1, 1.0, 5)):\n",
    "    \"\"\"\n",
    "    Generate a simple plot of the test and training learning curve.\n",
    "\n",
    "    Parameters\n",
    "    ----------\n",
    "    estimator : object type that implements the \"fit\" and \"predict\" methods\n",
    "        An object of that type which is cloned for each validation.\n",
    "\n",
    "    title : string\n",
    "        Title for the chart.\n",
    "\n",
    "    X : array-like, shape (n_samples, n_features)\n",
    "        Training vector, where n_samples is the number of samples and\n",
    "        n_features is the number of features.\n",
    "\n",
    "    y : array-like, shape (n_samples) or (n_samples, n_features), optional\n",
    "        Target relative to X for classification or regression;\n",
    "        None for unsupervised learning.\n",
    "\n",
    "    ylim : tuple, shape (ymin, ymax), optional\n",
    "        Defines minimum and maximum yvalues plotted.\n",
    "\n",
    "    cv : int, cross-validation generator or an iterable, optional\n",
    "        Determines the cross-validation splitting strategy.\n",
    "        Possible inputs for cv are:\n",
    "          - None, to use the default 3-fold cross-validation,\n",
    "          - integer, to specify the number of folds.\n",
    "          - :term:`CV splitter`,\n",
    "          - An iterable yielding (train, test) splits as arrays of indices.\n",
    "\n",
    "        For integer/None inputs, if ``y`` is binary or multiclass,\n",
    "        :class:`StratifiedKFold` used. If the estimator is not a classifier\n",
    "        or if ``y`` is neither binary nor multiclass, :class:`KFold` is used.\n",
    "\n",
    "        Refer :ref:`User Guide <cross_validation>` for the various\n",
    "        cross-validators that can be used here.\n",
    "\n",
    "    n_jobs : int or None, optional (default=None)\n",
    "        Number of jobs to run in parallel.\n",
    "        ``None`` means 1 unless in a :obj:`joblib.parallel_backend` context.\n",
    "        ``-1`` means using all processors. See :term:`Glossary <n_jobs>`\n",
    "        for more details.\n",
    "\n",
    "    train_sizes : array-like, shape (n_ticks,), dtype float or int\n",
    "        Relative or absolute numbers of training examples that will be used to\n",
    "        generate the learning curve. If the dtype is float, it is regarded as a\n",
    "        fraction of the maximum size of the training set (that is determined\n",
    "        by the selected validation method), i.e. it has to be within (0, 1].\n",
    "        Otherwise it is interpreted as absolute sizes of the training sets.\n",
    "        Note that for classification the number of samples usually have to\n",
    "        be big enough to contain at least one sample from each class.\n",
    "        (default: np.linspace(0.1, 1.0, 5))\n",
    "    \"\"\"\n",
    "    plt.figure()\n",
    "    plt.title(title)\n",
    "    if ylim is not None:\n",
    "        plt.ylim(*ylim)\n",
    "    plt.xlabel(\"Training examples\")\n",
    "    plt.ylabel(\"Score\")\n",
    "    train_sizes, train_scores, test_scores = learning_curve(\n",
    "        estimator, x, y, cv=cv, n_jobs=n_jobs, train_sizes=train_sizes)\n",
    "    train_scores_mean = np.mean(train_scores, axis=1)\n",
    "    train_scores_std = np.std(train_scores, axis=1)\n",
    "    test_scores_mean = np.mean(test_scores, axis=1)\n",
    "    test_scores_std = np.std(test_scores, axis=1)\n",
    "    plt.grid()\n",
    "\n",
    "    plt.fill_between(train_sizes, train_scores_mean - train_scores_std,\n",
    "                     train_scores_mean + train_scores_std, alpha=0.1,\n",
    "                     color=\"r\")\n",
    "    plt.fill_between(train_sizes, test_scores_mean - test_scores_std,\n",
    "                     test_scores_mean + test_scores_std, alpha=0.1, color=\"g\")\n",
    "    plt.plot(train_sizes, train_scores_mean, 'o-', color=\"r\",\n",
    "             label=\"Training score\")\n",
    "    plt.plot(train_sizes, test_scores_mean, 'o-', color=\"g\",\n",
    "             label=\"Cross-validation score\")\n",
    "\n",
    "    plt.legend(loc=\"best\")\n",
    "    return plt"
   ]
  },
  {
   "cell_type": "code",
   "execution_count": 381,
   "metadata": {},
   "outputs": [
    {
     "data": {
      "text/plain": [
       "<module 'matplotlib.pyplot' from '/Users/a.kurganova/Library/Python/3.7/lib/python/site-packages/matplotlib/pyplot.py'>"
      ]
     },
     "execution_count": 381,
     "metadata": {},
     "output_type": "execute_result"
    },
    {
     "data": {
      "image/png": "[encoded data removed]",
      "text/plain": [
       "<Figure size 432x288 with 1 Axes>"
      ]
     },
     "metadata": {},
     "output_type": "display_data"
    }
   ],
   "source": [
    "plotlearn_curve(class_grid.best_estimator_, 'n_neighbors=42',\n",
    "                    xtrain, ytrain.values.ravel(), cv=KFold(n_splits=3))"
   ]
  },
  {
   "cell_type": "code",
   "execution_count": 382,
   "metadata": {},
   "outputs": [],
   "source": [
    "def plotvalid_curve(estimator, title, x, y, \n",
    "                          param_name, param_range, cv, \n",
    "                          scoring=\"accuracy\"):\n",
    "                                                   \n",
    "    train_scores, test_scores = validation_curve(\n",
    "        estimator, x, y, param_name=param_name, param_range=param_range,\n",
    "        cv=cv, scoring=scoring,\n",
    "        n_jobs=-1\n",
    "    )\n",
    "    train_scores_mean = np.mean(train_scores, axis=1)\n",
    "    train_scores_std = np.std(train_scores, axis=1)\n",
    "    test_scores_mean = np.mean(test_scores, axis=1)\n",
    "    test_scores_std = np.std(test_scores, axis=1)\n",
    "\n",
    "    plt.title(title)\n",
    "    plt.xlabel(param_name)\n",
    "    plt.ylabel(\"Score\")\n",
    "    plt.ylim(0.0, 1.1)\n",
    "    lw = 2\n",
    "    plt.plot(param_range, train_scores_mean, label=\"Training score\",\n",
    "                 color=\"darkorange\", lw=lw)\n",
    "    plt.fill_between(param_range, train_scores_mean - train_scores_std,\n",
    "                     train_scores_mean + train_scores_std, alpha=0.2,\n",
    "                     color=\"darkorange\", lw=lw)\n",
    "    plt.plot(param_range, test_scores_mean, label=\"Cross-validation score\",\n",
    "                 color=\"navy\", lw=lw)\n",
    "    plt.fill_between(param_range, test_scores_mean - test_scores_std,\n",
    "                     test_scores_mean + test_scores_std, alpha=0.2,\n",
    "                     color=\"navy\", lw=lw)\n",
    "    plt.legend(loc=\"best\")\n",
    "    return plt"
   ]
  },
  {
   "cell_type": "code",
   "execution_count": 383,
   "metadata": {},
   "outputs": [
    {
     "data": {
      "text/plain": [
       "<module 'matplotlib.pyplot' from '/Users/a.kurganova/Library/Python/3.7/lib/python/site-packages/matplotlib/pyplot.py'>"
      ]
     },
     "execution_count": 383,
     "metadata": {},
     "output_type": "execute_result"
    },
    {
     "data": {
      "image/png": "[encoded data removed]",
      "text/plain": [
       "<Figure size 432x288 with 1 Axes>"
      ]
     },
     "metadata": {},
     "output_type": "display_data"
    }
   ],
   "source": [
    "plotvalid_curve(KNeighborsClassifier(), 'knn', \n",
    "                      xtrain, ytrain.values.ravel(), \n",
    "                      param_name='n_neighbors', param_range=n_neigh_values, \n",
    "                      cv=KFold(n_splits=3), scoring=\"accuracy\")"
   ]
  }
 ],
 "metadata": {
  "kernelspec": {
   "display_name": "Python 3",
   "language": "python",
   "name": "python3"
  },
  "language_info": {
   "codemirror_mode": {
    "name": "ipython",
    "version": 3
   },
   "file_extension": ".py",
   "mimetype": "text/x-python",
   "name": "python",
   "nbconvert_exporter": "python",
   "pygments_lexer": "ipython3",
   "version": "3.7.2"
  }
 },
 "nbformat": 4,
 "nbformat_minor": 2
}
