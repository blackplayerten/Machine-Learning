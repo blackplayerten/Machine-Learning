{
 "cells": [
  {
   "cell_type": "markdown",
   "metadata": {},
   "source": [
    "### Отчет по лабораторной работе №3: \"Обработка пропусков в данных, кодирование категориальных признаков, масштабирование данных\"."
   ]
  },
  {
   "cell_type": "code",
   "execution_count": 1,
   "metadata": {},
   "outputs": [],
   "source": [
    "import numpy as np\n",
    "import pandas as pd\n",
    "pd.set_option('display.max.rows', 1000)\n",
    "import seaborn as sns\n",
    "import matplotlib.pyplot as plt\n",
    "%matplotlib inline \n",
    "sns.set(style='ticks')"
   ]
  },
  {
   "cell_type": "code",
   "execution_count": 2,
   "metadata": {},
   "outputs": [
    {
     "data": {
      "text/html": [
       "<div>\n",
       "<style scoped>\n",
       "    .dataframe tbody tr th:only-of-type {\n",
       "        vertical-align: middle;\n",
       "    }\n",
       "\n",
       "    .dataframe tbody tr th {\n",
       "        vertical-align: top;\n",
       "    }\n",
       "\n",
       "    .dataframe thead th {\n",
       "        text-align: right;\n",
       "    }\n",
       "</style>\n",
       "<table border=\"1\" class=\"dataframe\">\n",
       "  <thead>\n",
       "    <tr style=\"text-align: right;\">\n",
       "      <th></th>\n",
       "      <th>Id</th>\n",
       "      <th>source</th>\n",
       "      <th>latitude</th>\n",
       "      <th>longitude</th>\n",
       "      <th>region</th>\n",
       "      <th>country</th>\n",
       "      <th>admin1</th>\n",
       "      <th>localityName</th>\n",
       "      <th>localityQuality</th>\n",
       "      <th>observationDate</th>\n",
       "      <th>...</th>\n",
       "      <th>speciesDescription</th>\n",
       "      <th>sumAtRisk</th>\n",
       "      <th>sumCases</th>\n",
       "      <th>sumDeaths</th>\n",
       "      <th>sumDestroyed</th>\n",
       "      <th>sumSlaughtered</th>\n",
       "      <th>humansGenderDesc</th>\n",
       "      <th>humansAge</th>\n",
       "      <th>humansAffected</th>\n",
       "      <th>humansDeaths</th>\n",
       "    </tr>\n",
       "  </thead>\n",
       "  <tbody>\n",
       "    <tr>\n",
       "      <th>0</th>\n",
       "      <td>230399</td>\n",
       "      <td>OIE</td>\n",
       "      <td>-27.900000</td>\n",
       "      <td>30.800000</td>\n",
       "      <td>Africa</td>\n",
       "      <td>South Africa</td>\n",
       "      <td>KwaZulu-Natal</td>\n",
       "      <td>HPAI_H5N8_2017_019</td>\n",
       "      <td>Exact</td>\n",
       "      <td>17/08/2017</td>\n",
       "      <td>...</td>\n",
       "      <td>domestic, unspecified bird</td>\n",
       "      <td>248000.0</td>\n",
       "      <td>12.0</td>\n",
       "      <td>12.0</td>\n",
       "      <td>50000.0</td>\n",
       "      <td>0.0</td>\n",
       "      <td>NaN</td>\n",
       "      <td>0.0</td>\n",
       "      <td>NaN</td>\n",
       "      <td>NaN</td>\n",
       "    </tr>\n",
       "    <tr>\n",
       "      <th>1</th>\n",
       "      <td>230381</td>\n",
       "      <td>OIE</td>\n",
       "      <td>54.837037</td>\n",
       "      <td>73.354155</td>\n",
       "      <td>Europe</td>\n",
       "      <td>Russian Federation</td>\n",
       "      <td>Omskaya Oblast</td>\n",
       "      <td>Novaya Stanica</td>\n",
       "      <td>Exact</td>\n",
       "      <td>16/08/2017</td>\n",
       "      <td>...</td>\n",
       "      <td>domestic, swine</td>\n",
       "      <td>122.0</td>\n",
       "      <td>6.0</td>\n",
       "      <td>1.0</td>\n",
       "      <td>0.0</td>\n",
       "      <td>0.0</td>\n",
       "      <td>NaN</td>\n",
       "      <td>NaN</td>\n",
       "      <td>NaN</td>\n",
       "      <td>NaN</td>\n",
       "    </tr>\n",
       "    <tr>\n",
       "      <th>2</th>\n",
       "      <td>230333</td>\n",
       "      <td>OIE</td>\n",
       "      <td>-21.077740</td>\n",
       "      <td>30.211620</td>\n",
       "      <td>Africa</td>\n",
       "      <td>Zimbabwe</td>\n",
       "      <td>Masvingo</td>\n",
       "      <td>Mwambe</td>\n",
       "      <td>Exact</td>\n",
       "      <td>16/08/2017</td>\n",
       "      <td>...</td>\n",
       "      <td>domestic, cattle</td>\n",
       "      <td>1283.0</td>\n",
       "      <td>112.0</td>\n",
       "      <td>0.0</td>\n",
       "      <td>NaN</td>\n",
       "      <td>7.0</td>\n",
       "      <td>NaN</td>\n",
       "      <td>NaN</td>\n",
       "      <td>NaN</td>\n",
       "      <td>NaN</td>\n",
       "    </tr>\n",
       "    <tr>\n",
       "      <th>3</th>\n",
       "      <td>230396</td>\n",
       "      <td>OIE</td>\n",
       "      <td>-26.000000</td>\n",
       "      <td>28.300000</td>\n",
       "      <td>Africa</td>\n",
       "      <td>South Africa</td>\n",
       "      <td>Gauteng</td>\n",
       "      <td>HPAI_H5N8_2017_020</td>\n",
       "      <td>Exact</td>\n",
       "      <td>15/08/2017</td>\n",
       "      <td>...</td>\n",
       "      <td>wild, unspecified bird</td>\n",
       "      <td>NaN</td>\n",
       "      <td>1.0</td>\n",
       "      <td>1.0</td>\n",
       "      <td>0.0</td>\n",
       "      <td>0.0</td>\n",
       "      <td>NaN</td>\n",
       "      <td>0.0</td>\n",
       "      <td>NaN</td>\n",
       "      <td>NaN</td>\n",
       "    </tr>\n",
       "    <tr>\n",
       "      <th>4</th>\n",
       "      <td>230371</td>\n",
       "      <td>OIE</td>\n",
       "      <td>49.237900</td>\n",
       "      <td>17.700200</td>\n",
       "      <td>Europe</td>\n",
       "      <td>Czech Republic</td>\n",
       "      <td>Jihomoravsky</td>\n",
       "      <td>Hvozdná</td>\n",
       "      <td>Exact</td>\n",
       "      <td>15/08/2017</td>\n",
       "      <td>...</td>\n",
       "      <td>wild, wild boar</td>\n",
       "      <td>NaN</td>\n",
       "      <td>1.0</td>\n",
       "      <td>1.0</td>\n",
       "      <td>NaN</td>\n",
       "      <td>NaN</td>\n",
       "      <td>NaN</td>\n",
       "      <td>NaN</td>\n",
       "      <td>NaN</td>\n",
       "      <td>NaN</td>\n",
       "    </tr>\n",
       "  </tbody>\n",
       "</table>\n",
       "<p>5 rows × 24 columns</p>\n",
       "</div>"
      ],
      "text/plain": [
       "       Id source   latitude  longitude  region             country  \\\n",
       "0  230399    OIE -27.900000  30.800000  Africa        South Africa   \n",
       "1  230381    OIE  54.837037  73.354155  Europe  Russian Federation   \n",
       "2  230333    OIE -21.077740  30.211620  Africa            Zimbabwe   \n",
       "3  230396    OIE -26.000000  28.300000  Africa        South Africa   \n",
       "4  230371    OIE  49.237900  17.700200  Europe      Czech Republic   \n",
       "\n",
       "           admin1        localityName localityQuality observationDate  ...  \\\n",
       "0   KwaZulu-Natal  HPAI_H5N8_2017_019           Exact      17/08/2017  ...   \n",
       "1  Omskaya Oblast      Novaya Stanica           Exact      16/08/2017  ...   \n",
       "2        Masvingo              Mwambe           Exact      16/08/2017  ...   \n",
       "3         Gauteng  HPAI_H5N8_2017_020           Exact      15/08/2017  ...   \n",
       "4    Jihomoravsky             Hvozdná           Exact      15/08/2017  ...   \n",
       "\n",
       "           speciesDescription sumAtRisk sumCases sumDeaths sumDestroyed  \\\n",
       "0  domestic, unspecified bird  248000.0     12.0      12.0      50000.0   \n",
       "1             domestic, swine     122.0      6.0       1.0          0.0   \n",
       "2            domestic, cattle    1283.0    112.0       0.0          NaN   \n",
       "3      wild, unspecified bird       NaN      1.0       1.0          0.0   \n",
       "4             wild, wild boar       NaN      1.0       1.0          NaN   \n",
       "\n",
       "   sumSlaughtered  humansGenderDesc  humansAge  humansAffected  humansDeaths  \n",
       "0             0.0               NaN        0.0             NaN           NaN  \n",
       "1             0.0               NaN        NaN             NaN           NaN  \n",
       "2             7.0               NaN        NaN             NaN           NaN  \n",
       "3             0.0               NaN        0.0             NaN           NaN  \n",
       "4             NaN               NaN        NaN             NaN           NaN  \n",
       "\n",
       "[5 rows x 24 columns]"
      ]
     },
     "execution_count": 2,
     "metadata": {},
     "output_type": "execute_result"
    }
   ],
   "source": [
    "data = pd.read_csv('лр3.csv')\n",
    "data.head()"
   ]
  },
  {
   "cell_type": "code",
   "execution_count": 3,
   "metadata": {},
   "outputs": [
    {
     "data": {
      "text/plain": [
       "(17008, 24)"
      ]
     },
     "execution_count": 3,
     "metadata": {},
     "output_type": "execute_result"
    }
   ],
   "source": [
    "data.shape"
   ]
  },
  {
   "cell_type": "code",
   "execution_count": 4,
   "metadata": {},
   "outputs": [
    {
     "data": {
      "text/plain": [
       "Id                      int64\n",
       "source                 object\n",
       "latitude              float64\n",
       "longitude             float64\n",
       "region                 object\n",
       "country                object\n",
       "admin1                 object\n",
       "localityName           object\n",
       "localityQuality        object\n",
       "observationDate        object\n",
       "reportingDate          object\n",
       "status                 object\n",
       "disease                object\n",
       "serotypes              object\n",
       "speciesDescription     object\n",
       "sumAtRisk             float64\n",
       "sumCases              float64\n",
       "sumDeaths             float64\n",
       "sumDestroyed          float64\n",
       "sumSlaughtered        float64\n",
       "humansGenderDesc       object\n",
       "humansAge             float64\n",
       "humansAffected        float64\n",
       "humansDeaths          float64\n",
       "dtype: object"
      ]
     },
     "execution_count": 4,
     "metadata": {},
     "output_type": "execute_result"
    }
   ],
   "source": [
    "data.dtypes"
   ]
  },
  {
   "cell_type": "code",
   "execution_count": 5,
   "metadata": {},
   "outputs": [
    {
     "data": {
      "text/plain": [
       "Id                        0\n",
       "source                    0\n",
       "latitude                  0\n",
       "longitude                 0\n",
       "region                    0\n",
       "country                   0\n",
       "admin1                    0\n",
       "localityName              0\n",
       "localityQuality           0\n",
       "observationDate         502\n",
       "reportingDate             0\n",
       "status                    0\n",
       "disease                   0\n",
       "serotypes              6941\n",
       "speciesDescription     1648\n",
       "sumAtRisk              7251\n",
       "sumCases               2473\n",
       "sumDeaths              2840\n",
       "sumDestroyed           4003\n",
       "sumSlaughtered         4773\n",
       "humansGenderDesc      16648\n",
       "humansAge             15940\n",
       "humansAffected        15591\n",
       "humansDeaths          16557\n",
       "dtype: int64"
      ]
     },
     "execution_count": 5,
     "metadata": {},
     "output_type": "execute_result"
    }
   ],
   "source": [
    "data.isnull().sum()"
   ]
  },
  {
   "cell_type": "markdown",
   "metadata": {},
   "source": [
    "### анализ данных датасета"
   ]
  },
  {
   "cell_type": "code",
   "execution_count": 6,
   "metadata": {},
   "outputs": [
    {
     "data": {
      "text/plain": [
       "Id                       0\n",
       "source                   0\n",
       "latitude                 0\n",
       "longitude                0\n",
       "region                   0\n",
       "country                  0\n",
       "admin1                   0\n",
       "localityName             0\n",
       "localityQuality          0\n",
       "observationDate        502\n",
       "reportingDate            0\n",
       "status                   0\n",
       "disease                  0\n",
       "serotypes             6941\n",
       "speciesDescription    1648\n",
       "sumAtRisk             7251\n",
       "sumCases              2473\n",
       "sumDeaths             2840\n",
       "sumDestroyed          4003\n",
       "sumSlaughtered        4773\n",
       "dtype: int64"
      ]
     },
     "execution_count": 6,
     "metadata": {},
     "output_type": "execute_result"
    }
   ],
   "source": [
    "# удаление колонок с пропусками в больше 70 процентов\n",
    "data = data.drop(columns=['humansGenderDesc', 'humansAge', 'humansAffected', 'humansDeaths'])\n",
    "data.isnull().sum()"
   ]
  },
  {
   "cell_type": "code",
   "execution_count": 7,
   "metadata": {},
   "outputs": [
    {
     "name": "stdout",
     "output_type": "stream",
     "text": [
      "колонки с нулевыми значениями: ['sumAtRisk', 'sumCases', 'sumDeaths', 'sumDestroyed', 'sumSlaughtered']\n"
     ]
    }
   ],
   "source": [
    "# нахождение колонок с нулевыми значениями\n",
    "colnull = []\n",
    "for col in data.columns:\n",
    "    null_count = data[col].isnull().sum()\n",
    "    if data[col].dtype in ('float64', 'int64') and null_count != 0:\n",
    "        colnull.append(col)\n",
    "        \n",
    "print('колонки с нулевыми значениями:', colnull)"
   ]
  },
  {
   "cell_type": "code",
   "execution_count": 8,
   "metadata": {},
   "outputs": [],
   "source": [
    "from sklearn.impute import SimpleImputer\n",
    "from sklearn.impute import MissingIndicator"
   ]
  },
  {
   "cell_type": "code",
   "execution_count": 9,
   "metadata": {},
   "outputs": [],
   "source": [
    "# заполнение пустых числовых колонок с помощью медианы\n",
    "for col in colnull:\n",
    "    i = MissingIndicator()\n",
    "    miss = i.fit_transform(data[[col]])\n",
    "    med = SimpleImputer(strategy='median')\n",
    "    data[[col]] = med.fit_transform(data[[col]])"
   ]
  },
  {
   "cell_type": "code",
   "execution_count": 10,
   "metadata": {},
   "outputs": [
    {
     "data": {
      "text/plain": [
       "Id                       0\n",
       "source                   0\n",
       "latitude                 0\n",
       "longitude                0\n",
       "region                   0\n",
       "country                  0\n",
       "admin1                   0\n",
       "localityName             0\n",
       "localityQuality          0\n",
       "observationDate        502\n",
       "reportingDate            0\n",
       "status                   0\n",
       "disease                  0\n",
       "serotypes             6941\n",
       "speciesDescription    1648\n",
       "sumAtRisk                0\n",
       "sumCases                 0\n",
       "sumDeaths                0\n",
       "sumDestroyed             0\n",
       "sumSlaughtered           0\n",
       "dtype: int64"
      ]
     },
     "execution_count": 10,
     "metadata": {},
     "output_type": "execute_result"
    }
   ],
   "source": [
    "data.isnull().sum()"
   ]
  },
  {
   "cell_type": "code",
   "execution_count": 11,
   "metadata": {},
   "outputs": [
    {
     "name": "stdout",
     "output_type": "stream",
     "text": [
      "категориальные колонки с нулевыми значениями: ['serotypes']\n"
     ]
    }
   ],
   "source": [
    "# удаление ненужных для анализа категориальных колонок\n",
    "data = data.drop(columns=['observationDate', 'reportingDate', 'speciesDescription'])\n",
    "# заполнение пустых значений в категориальных данных\n",
    "cat_colnull = []\n",
    "for col in data.columns:\n",
    "    null_count = data[col].isnull().sum()\n",
    "    if data[col].dtype not in ('float64', 'int64') and null_count != 0:\n",
    "        cat_colnull.append(col)\n",
    "        \n",
    "print('категориальные колонки с нулевыми значениями:', cat_colnull)"
   ]
  },
  {
   "cell_type": "code",
   "execution_count": 12,
   "metadata": {},
   "outputs": [],
   "source": [
    "# заполнение пустых значений в категориальных колонках с помощью моды\n",
    "for col in cat_colnull:\n",
    "    i = MissingIndicator()\n",
    "    miss = i.fit_transform(data[[col]])\n",
    "    mod = SimpleImputer(strategy='most_frequent')\n",
    "    data[[col]] = mod.fit_transform(data[[col]])"
   ]
  },
  {
   "cell_type": "code",
   "execution_count": 13,
   "metadata": {},
   "outputs": [
    {
     "data": {
      "text/plain": [
       "Id                 0\n",
       "source             0\n",
       "latitude           0\n",
       "longitude          0\n",
       "region             0\n",
       "country            0\n",
       "admin1             0\n",
       "localityName       0\n",
       "localityQuality    0\n",
       "status             0\n",
       "disease            0\n",
       "serotypes          0\n",
       "sumAtRisk          0\n",
       "sumCases           0\n",
       "sumDeaths          0\n",
       "sumDestroyed       0\n",
       "sumSlaughtered     0\n",
       "dtype: int64"
      ]
     },
     "execution_count": 13,
     "metadata": {},
     "output_type": "execute_result"
    }
   ],
   "source": [
    "data.isnull().sum()"
   ]
  },
  {
   "cell_type": "markdown",
   "metadata": {},
   "source": [
    "### преобразование категориальных признаков в числовые"
   ]
  },
  {
   "cell_type": "code",
   "execution_count": 14,
   "metadata": {},
   "outputs": [
    {
     "name": "stdout",
     "output_type": "stream",
     "text": [
      "source 12\n",
      "region 4\n",
      "country 122\n",
      "admin1 941\n",
      "localityName 9279\n",
      "localityQuality 5\n",
      "status 2\n",
      "disease 26\n",
      "serotypes 60\n"
     ]
    }
   ],
   "source": [
    "cat_coll = []\n",
    "for col in data.columns:\n",
    "    if data[col].dtype == 'object':\n",
    "        cat_coll.append(col)\n",
    "for col in cat_coll:\n",
    "    print(col, len(data[col].unique()))"
   ]
  },
  {
   "cell_type": "code",
   "execution_count": 15,
   "metadata": {},
   "outputs": [],
   "source": [
    "from sklearn.preprocessing import LabelEncoder"
   ]
  },
  {
   "cell_type": "code",
   "execution_count": 16,
   "metadata": {},
   "outputs": [
    {
     "name": "stdout",
     "output_type": "stream",
     "text": [
      "source [ 7  6  1 10  2  4  0  5  8  9 11  3]\n",
      "region [0 3 2 1]\n",
      "country [ 99  93 121  27 113 102  88  52 103  61  53  23  43  80  92  94 111  87\n",
      " 105  79  41  24 107  68 100  64  84  34  89 101 116   8 118  36  56  48\n",
      "  29   0  32  62 108  91 114 119  70  65  35  63  90  82 104  75 117  95\n",
      " 110 109   7  73  46  16  97 120  45   1  30  31  15   2  83  54  74  98\n",
      "  12  55  25  13   5  19  81  96  51  39 112  66  47  49  22  18  76  58\n",
      " 115  26  85   9  40  42  11  44  78  86  60  38  72  28  33  17 106  50\n",
      "  20  14   6  69   3  59  77  57  67   4  71  37  21  10]\n",
      "admin1 [427 577 485 248 342 192 360 448 456 628 512 813 865 392 680 924 901 703\n",
      " 334 451 882 708 564 545 511 691 526 217 869 879 414 607 127 710 660 472\n",
      " 218 686 884 671 802 583 915 712 492 167 742 632 145 646 554 805 578 709\n",
      " 611 146 390 918 129 338 376  96  10 753 322 211 694 159 475 553  23   2\n",
      " 672 416 134 282 727 278 285 453 760 930 330 191  67 585 287 791  59 551\n",
      "  76 406 909  78  34 296 284 825 319 599 851 261 496 558 262 538 881 227\n",
      " 883 238 542 725 298 246 277 154 305 733 816 613 486 466 935 297 363  28\n",
      "  38  84  87 432 729  79 477 152 430 782 498   6 144 516 184 411 429 401\n",
      "  99 121 461 559 419 185 237 784 678 331 385 677 631 101 188  20 368 723\n",
      " 468 351 876 902  18 571   8 255  47 852  22 604 294  50  77 779 198 849\n",
      " 303 499 136 482 478  45 276 830 908 124 701 808 221 776 912 462 232 172\n",
      " 174 173 654 339 443 205 667 910 821  89 438 125 831 616 658 539 352  93\n",
      " 749 186 397 685 422 326  55 295 126 529 408 293 343 110 932   1 576  11\n",
      " 717 759 447 619 156 239 814 706  26 822  80  13 514 141  73 590 874  36\n",
      " 575 169 122 153 507 850 681 166 572 321 673 199 772 252 826 503 104 213\n",
      "  49 436 201 487 629 228 283 931 164 384 877 396 317 549 635 593 497 589\n",
      " 382 207 470 195 123 868 316 412  98 815 567 840 758 524 288 659 176 391\n",
      " 721 823 323 161 904 332 905 595 756 544 379 457 896 697 809  53 209  62\n",
      " 906 676 375 301 741 843 900 118 314 493 833 418 281 845 716 258 570 695\n",
      " 893 341 194 634  56 523 105  97 754 371 111 615  30 726 106 836  54 245\n",
      " 130 532 460 359 346 789  83 407 771 494 244 587 260 519 358 925 872 740\n",
      "  32 196 748 229 744 155 937 829 871 664  39 720 674 444 537 765  66 892\n",
      " 581 214 610 624 345 696 605 324 165 307 374 236 828 405 917 637 796 329\n",
      " 939 773 115 895 355 484 230 698 394 561 267 834 769 270 162 193 897 627\n",
      " 560 292 767 630 781 372 216  37  33  14 586 222 459 518 728 318 197 423\n",
      " 788 860   7 562 638 766 226 187 388 491 450 920 929 792 569 309 504 306\n",
      " 863 393   3 271 827 302 732  52 133 764 657 259 774 513 268 117 452 250\n",
      "  64 689 311 817 922 471 666 665 743 862 525 540 580 286  82 752 365 356\n",
      " 880 442 417 640  25 913 204 378 143 534 750 251 266 737 367 147 940 889\n",
      " 224 480 279 731 308  35 921 373 903 888 873 794 420 844 337 713 517 431\n",
      " 350 751 175 530 320 911  68 602 719  71 596 648 291 353 304 500 763 275\n",
      " 150 149  19 626 552 474 824 272 936 934 402 645 157 479 208  12 799 745\n",
      " 449 257  48 536 231 403 510 445 812 333 866 386 315 235  16  95 527 938\n",
      " 383 690 440 837 398 116 233   0 535 469 225 702 684  88 508 548 854 107\n",
      " 591 832 132 163 582 927 804 887  43 643 520 662 182 797 464 515 563 290\n",
      " 592 274 247 650 465 803 256 841 170 787 785 148 734  57 203 476 670 158\n",
      " 249 633 454  60 119 410 693 280 864 885 669 738 135 234  41 820 370  91\n",
      " 746 621 642 916 618 801 441 179 299  75 140 439 177 369 886 300 112 400\n",
      " 625 354 623 711 505 919 189 541 598 846 722 473  24 506 120 606  40 357\n",
      " 424 335 509 853 109 914 735  86 243 636 361 768 609 835 639 692 617 566\n",
      " 395 547 730  94 325 806 614   5 269 923 206 898  58 190 603 597 328 528\n",
      " 579 783 313 718 608 641 867 242 818 210 644 793 425 377 434 747 455 415\n",
      "  31 488 890 409 770  70  44 848 421 878  90 663 775 891   9 790 181 362\n",
      " 102 778 433 253 933  81 855 557 366 655 502 647 601 699 568 870 679 857\n",
      "  27 458  63 859 178 467 875 241 856 668 894 347 289 463 807 139 113 446\n",
      " 651 573 348 652 675 724 349 310 413 588 928 926  15 344 811 556 757 273\n",
      " 584 533  85 839 336 327 380 215 340 212 254 495 240 661 653 387 312  65\n",
      " 183 219 847 404 842 762 437 714  17  42 220 171 522 795 656 108  51 202\n",
      " 435 755  72 736 142 546 200 838  61  29 899 574 265  92 777  69  46 103\n",
      " 819 426 800 521 907  74 483 861 428   4 399 700 761 381 649  21 481 543\n",
      " 114 810 131 364 531 168 715 389 264 151 180 555 612 622 739 798 160 128\n",
      " 682 620 137 683 858 780 100 565 550 786 490 138 704 688 263 501 707 223\n",
      " 489 600 687 705 594]\n",
      "localityName [2997 5577 5301 ... 5823 5694 2015]\n",
      "localityQuality [3 2 0 4 1]\n",
      "status [0 1]\n",
      "disease [14  1 12 19 15 17 25 18 11 22 23  0  4 24  2 21 20  3 10  7  8  5  9 16\n",
      "  6 13]\n",
      "serotypes [36 11 14 17 15 21 57 52 55  8 38 51 26  7  9 42 27 10 58 53 54 45 24 28\n",
      " 20 40 47 39 12 41 46 44 56  6 43 49 16 48  0  5  4 50 59 35 13  1 18 32\n",
      " 25  3  2 22 31 37 34 33 29 30 19 23]\n"
     ]
    }
   ],
   "source": [
    "# использование готового класса для кодирования\n",
    "en_cat = {}\n",
    "for col in cat_coll:\n",
    "    le = LabelEncoder()\n",
    "    # заполнение и преобразование\n",
    "    data[[col]] = le.fit_transform(data[col])  \n",
    "    print(col, data[col].unique())\n",
    "    en_cat[col] = le"
   ]
  },
  {
   "cell_type": "code",
   "execution_count": 17,
   "metadata": {},
   "outputs": [
    {
     "data": {
      "text/plain": [
       "Id                   int64\n",
       "source               int64\n",
       "latitude           float64\n",
       "longitude          float64\n",
       "region               int64\n",
       "country              int64\n",
       "admin1               int64\n",
       "localityName         int64\n",
       "localityQuality      int64\n",
       "status               int64\n",
       "disease              int64\n",
       "serotypes            int64\n",
       "sumAtRisk          float64\n",
       "sumCases           float64\n",
       "sumDeaths          float64\n",
       "sumDestroyed       float64\n",
       "sumSlaughtered     float64\n",
       "dtype: object"
      ]
     },
     "execution_count": 17,
     "metadata": {},
     "output_type": "execute_result"
    }
   ],
   "source": [
    "data.dtypes"
   ]
  },
  {
   "cell_type": "code",
   "execution_count": 18,
   "metadata": {},
   "outputs": [
    {
     "data": {
      "text/plain": [
       "{'source': LabelEncoder(),\n",
       " 'region': LabelEncoder(),\n",
       " 'country': LabelEncoder(),\n",
       " 'admin1': LabelEncoder(),\n",
       " 'localityName': LabelEncoder(),\n",
       " 'localityQuality': LabelEncoder(),\n",
       " 'status': LabelEncoder(),\n",
       " 'disease': LabelEncoder(),\n",
       " 'serotypes': LabelEncoder()}"
      ]
     },
     "execution_count": 18,
     "metadata": {},
     "output_type": "execute_result"
    }
   ],
   "source": [
    "# выполнение декодирования\n",
    "en_cat"
   ]
  },
  {
   "cell_type": "code",
   "execution_count": 19,
   "metadata": {},
   "outputs": [
    {
     "data": {
      "text/plain": [
       "array(['Africa', 'Europe', 'Asia', 'Americas'], dtype=object)"
      ]
     },
     "execution_count": 19,
     "metadata": {},
     "output_type": "execute_result"
    }
   ],
   "source": [
    "en_cat['region'].inverse_transform([0, 3, 2, 1])"
   ]
  },
  {
   "cell_type": "code",
   "execution_count": 20,
   "metadata": {},
   "outputs": [
    {
     "data": {
      "text/plain": [
       "array(['OIE', 'National authorities', 'FAO Field Officer', 'WHO',\n",
       "       'FAO officer', 'International reference laboratory', 'EC',\n",
       "       'National Institute for Communicable Diseases, NICD', 'Other',\n",
       "       'Publications', 'sequence only', 'FAO-Report'], dtype=object)"
      ]
     },
     "execution_count": 20,
     "metadata": {},
     "output_type": "execute_result"
    }
   ],
   "source": [
    "en_cat['source'].inverse_transform([7, 6, 1, 10, 2, 4, 0, 5, 8, 9, 11, 3])"
   ]
  },
  {
   "cell_type": "markdown",
   "metadata": {},
   "source": [
    "### масштабирование"
   ]
  },
  {
   "cell_type": "code",
   "execution_count": 21,
   "metadata": {},
   "outputs": [],
   "source": [
    "from sklearn.preprocessing import MinMaxScaler, StandardScaler, Normalizer"
   ]
  },
  {
   "cell_type": "code",
   "execution_count": 22,
   "metadata": {},
   "outputs": [],
   "source": [
    "sc1 = MinMaxScaler()\n",
    "sc1_data = sc1.fit_transform(data[['sumAtRisk']])"
   ]
  },
  {
   "cell_type": "code",
   "execution_count": 40,
   "metadata": {},
   "outputs": [
    {
     "data": {
      "image/png": "[encoded data removed]",
      "text/plain": [
       "<Figure size 432x288 with 1 Axes>"
      ]
     },
     "metadata": {
      "needs_background": "light"
     },
     "output_type": "display_data"
    }
   ],
   "source": [
    "plt.hist(data['sumAtRisk'], 50, range=[0, 2500])\n",
    "plt.show()"
   ]
  },
  {
   "cell_type": "code",
   "execution_count": 43,
   "metadata": {},
   "outputs": [
    {
     "data": {
      "image/png": "[encoded data removed]",
      "text/plain": [
       "<Figure size 432x288 with 1 Axes>"
      ]
     },
     "metadata": {
      "needs_background": "light"
     },
     "output_type": "display_data"
    }
   ],
   "source": [
    "plt.hist(sc1_data, 50, range=[0, 0.00125])\n",
    "plt.show()"
   ]
  },
  {
   "cell_type": "code",
   "execution_count": 59,
   "metadata": {},
   "outputs": [],
   "source": [
    "# на основе z-оценки\n",
    "sc2 = StandardScaler()\n",
    "sc2_data = sc2.fit_transform(data[['sumAtRisk']])"
   ]
  },
  {
   "cell_type": "code",
   "execution_count": 60,
   "metadata": {},
   "outputs": [
    {
     "data": {
      "image/png": "[encoded data removed]",
      "text/plain": [
       "<Figure size 432x288 with 1 Axes>"
      ]
     },
     "metadata": {
      "needs_background": "light"
     },
     "output_type": "display_data"
    }
   ],
   "source": [
    "plt.hist(sc2_data, 50, range=[0, 10])\n",
    "plt.show()"
   ]
  },
  {
   "cell_type": "code",
   "execution_count": 61,
   "metadata": {},
   "outputs": [
    {
     "data": {
      "image/png": "[encoded data removed]",
      "text/plain": [
       "<Figure size 432x288 with 1 Axes>"
      ]
     },
     "metadata": {
      "needs_background": "light"
     },
     "output_type": "display_data"
    }
   ],
   "source": [
    "# нормализация\n",
    "sc3 = Normalizer()\n",
    "sc3_data = sc3.fit_transform(data[['sumAtRisk']])\n",
    "plt.hist(sc3_data, 50)\n",
    "plt.show()"
   ]
  }
 ],
 "metadata": {
  "kernelspec": {
   "display_name": "Python 3",
   "language": "python",
   "name": "python3"
  },
  "language_info": {
   "codemirror_mode": {
    "name": "ipython",
    "version": 3
   },
   "file_extension": ".py",
   "mimetype": "text/x-python",
   "name": "python",
   "nbconvert_exporter": "python",
   "pygments_lexer": "ipython3",
   "version": "3.7.2"
  }
 },
 "nbformat": 4,
 "nbformat_minor": 2
}
